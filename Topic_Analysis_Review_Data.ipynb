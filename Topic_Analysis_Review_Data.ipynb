{
 "cells": [
  {
   "cell_type": "code",
   "execution_count": 1,
   "metadata": {},
   "outputs": [
    {
     "data": {
      "text/html": [
       "<div>\n",
       "<style>\n",
       "    .dataframe thead tr:only-child th {\n",
       "        text-align: right;\n",
       "    }\n",
       "\n",
       "    .dataframe thead th {\n",
       "        text-align: left;\n",
       "    }\n",
       "\n",
       "    .dataframe tbody tr th {\n",
       "        vertical-align: top;\n",
       "    }\n",
       "</style>\n",
       "<table border=\"1\" class=\"dataframe\">\n",
       "  <thead>\n",
       "    <tr style=\"text-align: right;\">\n",
       "      <th></th>\n",
       "      <th>sentiment</th>\n",
       "      <th>review</th>\n",
       "    </tr>\n",
       "  </thead>\n",
       "  <tbody>\n",
       "    <tr>\n",
       "      <th>0</th>\n",
       "      <td>1</td>\n",
       "      <td>Good but need updates and improvements</td>\n",
       "    </tr>\n",
       "    <tr>\n",
       "      <th>1</th>\n",
       "      <td>0</td>\n",
       "      <td>Worst mobile i have bought ever, Battery is dr...</td>\n",
       "    </tr>\n",
       "    <tr>\n",
       "      <th>2</th>\n",
       "      <td>1</td>\n",
       "      <td>when I will get my 10% cash back.... its alrea...</td>\n",
       "    </tr>\n",
       "    <tr>\n",
       "      <th>3</th>\n",
       "      <td>1</td>\n",
       "      <td>Good</td>\n",
       "    </tr>\n",
       "    <tr>\n",
       "      <th>4</th>\n",
       "      <td>0</td>\n",
       "      <td>The worst phone everThey have changed the last...</td>\n",
       "    </tr>\n",
       "    <tr>\n",
       "      <th>5</th>\n",
       "      <td>0</td>\n",
       "      <td>Only I'm telling don't buyI'm totally disappoi...</td>\n",
       "    </tr>\n",
       "  </tbody>\n",
       "</table>\n",
       "</div>"
      ],
      "text/plain": [
       "   sentiment                                             review\n",
       "0          1             Good but need updates and improvements\n",
       "1          0  Worst mobile i have bought ever, Battery is dr...\n",
       "2          1  when I will get my 10% cash back.... its alrea...\n",
       "3          1                                               Good\n",
       "4          0  The worst phone everThey have changed the last...\n",
       "5          0  Only I'm telling don't buyI'm totally disappoi..."
      ]
     },
     "execution_count": 1,
     "metadata": {},
     "output_type": "execute_result"
    }
   ],
   "source": [
    "#read the csv file with reviews and importing libraries\n",
    "import pandas as pd\n",
    "import numpy as np\n",
    "reviews_df=pd.read_csv('K8 Reviews v0.2.csv',error_bad_lines=False)\n",
    "reviews_df['review'] = reviews_df['review'].astype(str) \n",
    "reviews_df.head(6)"
   ]
  },
  {
   "cell_type": "code",
   "execution_count": 2,
   "metadata": {},
   "outputs": [],
   "source": [
    "#importing required libraries\n",
    "import string\n",
    "import nltk\n",
    "from nltk import word_tokenize"
   ]
  },
  {
   "cell_type": "code",
   "execution_count": 3,
   "metadata": {},
   "outputs": [],
   "source": [
    "#tokenising the review column\n",
    "reviews_df['review'] = reviews_df.apply(lambda row: word_tokenize(row['review']), axis =1)\n",
    "token_list = reviews_df['review'].tolist()"
   ]
  },
  {
   "cell_type": "code",
   "execution_count": 4,
   "metadata": {},
   "outputs": [],
   "source": [
    "#importing stopwords\n",
    "from nltk.corpus import stopwords\n",
    "stop_words = set(stopwords.words('english'))"
   ]
  },
  {
   "cell_type": "code",
   "execution_count": 5,
   "metadata": {},
   "outputs": [],
   "source": [
    "#removing stopwords and filtering\n",
    "filtered_sentence = []\n",
    "for w in token_list:\n",
    "    for i in w:\n",
    "        if i not in stop_words:\n",
    "            filtered_sentence.append(i)"
   ]
  },
  {
   "cell_type": "code",
   "execution_count": 6,
   "metadata": {},
   "outputs": [
    {
     "data": {
      "text/plain": [
       "['Good', 'need', 'updates', 'improvements', 'Worst']"
      ]
     },
     "execution_count": 6,
     "metadata": {},
     "output_type": "execute_result"
    }
   ],
   "source": [
    "#display filtered sentence\n",
    "filtered_sentence[0:5]"
   ]
  },
  {
   "cell_type": "code",
   "execution_count": 7,
   "metadata": {},
   "outputs": [],
   "source": [
    "#removing punctuations\n",
    "p = []\n",
    "for w in filtered_sentence:\n",
    "    if w not in string.punctuation:\n",
    "        p.append(w)"
   ]
  },
  {
   "cell_type": "code",
   "execution_count": 8,
   "metadata": {},
   "outputs": [],
   "source": [
    "#applying pos-tagging\n",
    "postag = nltk.pos_tag(p)"
   ]
  },
  {
   "cell_type": "code",
   "execution_count": 9,
   "metadata": {},
   "outputs": [],
   "source": [
    "#taking only the noun words\n",
    "npos = []\n",
    "for pos, tag in postag:\n",
    "    if tag.startswith('N'):\n",
    "        npos.append(pos)"
   ]
  },
  {
   "cell_type": "code",
   "execution_count": 10,
   "metadata": {},
   "outputs": [],
   "source": [
    "#importing lemmatizer\n",
    "from nltk.stem import WordNetLemmatizer\n",
    "lemma_function = WordNetLemmatizer()"
   ]
  },
  {
   "cell_type": "code",
   "execution_count": 11,
   "metadata": {},
   "outputs": [],
   "source": [
    "#applying lemmatization\n",
    "lem = []\n",
    "for w in npos:\n",
    "    lem.append(lemma_function.lemmatize(w))"
   ]
  },
  {
   "cell_type": "code",
   "execution_count": 12,
   "metadata": {},
   "outputs": [],
   "source": [
    "#importing gensim and other libraries\n",
    "import gensim\n",
    "from gensim import corpora\n",
    "from gensim import models"
   ]
  },
  {
   "cell_type": "code",
   "execution_count": 13,
   "metadata": {},
   "outputs": [],
   "source": [
    "#assigning lemmatized words to a dictonary\n",
    "dictionary = corpora.Dictionary([lem])"
   ]
  },
  {
   "cell_type": "code",
   "execution_count": 14,
   "metadata": {},
   "outputs": [],
   "source": [
    "#using doc2bow for convert the list into bag-of-words\n",
    "corpus = [dictionary.doc2bow(text) for text in [lem]]"
   ]
  },
  {
   "cell_type": "code",
   "execution_count": 15,
   "metadata": {},
   "outputs": [],
   "source": [
    "#assigning number of topic we want\n",
    "NUM_topics = 12"
   ]
  },
  {
   "cell_type": "code",
   "execution_count": 16,
   "metadata": {},
   "outputs": [],
   "source": [
    "#assigning LDA model\n",
    "lda_model = models.LdaModel(corpus = corpus, num_topics=NUM_topics, id2word=dictionary, passes=15)"
   ]
  },
  {
   "cell_type": "code",
   "execution_count": 18,
   "metadata": {},
   "outputs": [
    {
     "name": "stdout",
     "output_type": "stream",
     "text": [
      "LDA Model\n",
      "Topic #0:  0.001*\"phone\" + 0.000*\"product\" + 0.000*\"camera\" + 0.000*\"battery\" + 0.000*\"problem\" + 0.000*\"quality\" + 0.000*\"issue\" + 0.000*\"Lenovo\" + 0.000*\"price\" + 0.000*\"Good\"\n",
      "Topic #1:  0.001*\"phone\" + 0.000*\"camera\" + 0.000*\"product\" + 0.000*\"battery\" + 0.000*\"quality\" + 0.000*\"Lenovo\" + 0.000*\"problem\" + 0.000*\"note\" + 0.000*\"Battery\" + 0.000*\"issue\"\n",
      "Topic #2:  0.001*\"phone\" + 0.000*\"camera\" + 0.000*\"battery\" + 0.000*\"product\" + 0.000*\"problem\" + 0.000*\"Lenovo\" + 0.000*\"quality\" + 0.000*\"time\" + 0.000*\"Good\" + 0.000*\"day\"\n",
      "Topic #3:  0.004*\"phone\" + 0.002*\"camera\" + 0.001*\"battery\" + 0.001*\"issue\" + 0.001*\"problem\" + 0.001*\"product\" + 0.001*\"Lenovo\" + 0.001*\"quality\" + 0.001*\"time\" + 0.001*\"Battery\"\n",
      "Topic #4:  0.062*\"phone\" + 0.024*\"camera\" + 0.021*\"battery\" + 0.020*\"product\" + 0.015*\"problem\" + 0.014*\"Lenovo\" + 0.014*\"issue\" + 0.013*\"quality\" + 0.010*\"time\" + 0.009*\"Good\"\n",
      "Topic #5:  0.000*\"phone\" + 0.000*\"camera\" + 0.000*\"product\" + 0.000*\"battery\" + 0.000*\"Lenovo\" + 0.000*\"problem\" + 0.000*\"quality\" + 0.000*\"time\" + 0.000*\"issue\" + 0.000*\"Good\"\n",
      "Topic #6:  0.000*\"phone\" + 0.000*\"camera\" + 0.000*\"battery\" + 0.000*\"product\" + 0.000*\"problem\" + 0.000*\"quality\" + 0.000*\"Lenovo\" + 0.000*\"Good\" + 0.000*\"issue\" + 0.000*\"time\"\n",
      "Topic #7:  0.001*\"phone\" + 0.001*\"camera\" + 0.001*\"battery\" + 0.001*\"product\" + 0.000*\"issue\" + 0.000*\"problem\" + 0.000*\"Lenovo\" + 0.000*\"quality\" + 0.000*\"time\" + 0.000*\"price\"\n",
      "Topic #8:  0.002*\"phone\" + 0.001*\"product\" + 0.000*\"battery\" + 0.000*\"camera\" + 0.000*\"issue\" + 0.000*\"problem\" + 0.000*\"Lenovo\" + 0.000*\"Good\" + 0.000*\"price\" + 0.000*\"performance\"\n",
      "Topic #9:  0.001*\"phone\" + 0.000*\"camera\" + 0.000*\"battery\" + 0.000*\"product\" + 0.000*\"problem\" + 0.000*\"Lenovo\" + 0.000*\"issue\" + 0.000*\"quality\" + 0.000*\"Nice\" + 0.000*\"time\"\n",
      "Topic #10:  0.000*\"phone\" + 0.000*\"camera\" + 0.000*\"product\" + 0.000*\"battery\" + 0.000*\"Lenovo\" + 0.000*\"problem\" + 0.000*\"day\" + 0.000*\"quality\" + 0.000*\"time\" + 0.000*\"issue\"\n",
      "Topic #11:  0.000*\"phone\" + 0.000*\"battery\" + 0.000*\"camera\" + 0.000*\"Lenovo\" + 0.000*\"product\" + 0.000*\"problem\" + 0.000*\"quality\" + 0.000*\"issue\" + 0.000*\"performance\" + 0.000*\"price\"\n"
     ]
    }
   ],
   "source": [
    "#printing the topics\n",
    "print(\"LDA Model\")\n",
    "\n",
    "for idx in range(NUM_topics):\n",
    "    print(\"Topic #%s: \" % idx, lda_model.print_topic(idx, 10))"
   ]
  },
  {
   "cell_type": "code",
   "execution_count": 19,
   "metadata": {},
   "outputs": [
    {
     "name": "stdout",
     "output_type": "stream",
     "text": [
      "\n",
      "Coherence Score:  0.25071758225\n"
     ]
    }
   ],
   "source": [
    "#importing coherence model and find the value\n",
    "from gensim.models.coherencemodel import CoherenceModel\n",
    "coherence_model_lda = CoherenceModel(model=lda_model, texts=token_list, dictionary=dictionary, coherence='c_v')\n",
    "coherence_lda = coherence_model_lda.get_coherence()\n",
    "print('\\nCoherence Score: ', coherence_lda)"
   ]
  },
  {
   "cell_type": "code",
   "execution_count": 20,
   "metadata": {},
   "outputs": [],
   "source": [
    "#importing pyLDAvis library\n",
    "import pyLDAvis\n",
    "import pyLDAvis.gensim"
   ]
  },
  {
   "cell_type": "code",
   "execution_count": 21,
   "metadata": {},
   "outputs": [
    {
     "data": {
      "text/plain": [
       "PreparedData(topic_coordinates=            Freq  cluster  topics         x    y\n",
       "topic                                           \n",
       "4      99.999069        1       1  0.298876 -0.0\n",
       "3       0.000085        1       2  0.007806  0.0\n",
       "8       0.000085        1       3 -0.022304  0.0\n",
       "7       0.000085        1       4 -0.020101 -0.0\n",
       "2       0.000085        1       5 -0.024859  0.0\n",
       "0       0.000085        1       6 -0.026948 -0.0\n",
       "11      0.000085        1       7 -0.040732 -0.0\n",
       "10      0.000085        1       8 -0.035859  0.0\n",
       "9       0.000085        1       9 -0.028968 -0.0\n",
       "6       0.000085        1      10 -0.034814 -0.0\n",
       "5       0.000085        1      11 -0.037916 -0.0\n",
       "1       0.000085        1      12 -0.034183  0.0, topic_info=      Category         Freq         Term        Total  loglift  logprob\n",
       "term                                                                   \n",
       "10201  Default  6134.000000        phone  6134.000000  30.0000  30.0000\n",
       "5695   Default  2387.000000       camera  2387.000000  29.0000  29.0000\n",
       "5227   Default  2114.000000      battery  2114.000000  28.0000  28.0000\n",
       "10771  Default  1969.000000      product  1969.000000  27.0000  27.0000\n",
       "10645  Default  1449.000000      problem  1449.000000  26.0000  26.0000\n",
       "8445   Default  1358.000000        issue  1358.000000  25.0000  25.0000\n",
       "2498   Default  1399.000000       Lenovo  1399.000000  24.0000  24.0000\n",
       "10960  Default  1256.000000      quality  1256.000000  23.0000  23.0000\n",
       "12429  Default   958.000000         time   958.000000  22.0000  22.0000\n",
       "1865   Default   918.000000         Good   918.000000  21.0000  21.0000\n",
       "806    Default   843.000000      Battery   843.000000  20.0000  20.0000\n",
       "10578  Default   842.000000        price   842.000000  19.0000  19.0000\n",
       "6435   Default   861.000000          day   861.000000  18.0000  18.0000\n",
       "10120  Default   805.000000  performance   805.000000  17.0000  17.0000\n",
       "2919   Default   806.000000         Nice   806.000000  16.0000  16.0000\n",
       "9734   Default   738.000000         note   738.000000  15.0000  15.0000\n",
       "1054   Default   704.000000       Camera   704.000000  14.0000  14.0000\n",
       "7263   Default   678.000000      feature   678.000000  13.0000  13.0000\n",
       "9398   Default   678.000000       mobile   678.000000  12.0000  12.0000\n",
       "522    Default   579.000000       Amazon   579.000000  11.0000  11.0000\n",
       "3290   Default   549.000000        Phone   549.000000  10.0000  10.0000\n",
       "9514   Default   571.000000        money   571.000000   9.0000   9.0000\n",
       "5086   Default   598.000000       backup   598.000000   8.0000   8.0000\n",
       "9553   Default   487.000000        month   487.000000   7.0000   7.0000\n",
       "11644  Default   452.000000      service   452.000000   6.0000   6.0000\n",
       "8208   Default   479.000000         hour   479.000000   5.0000   5.0000\n",
       "12672  Default   427.000000          use   427.000000   4.0000   4.0000\n",
       "8686   Default   399.000000           k8   399.000000   3.0000   3.0000\n",
       "5915   Default   416.000000       charge   416.000000   2.0000   2.0000\n",
       "4380   Default   373.000000         Very   373.000000   1.0000   1.0000\n",
       "...        ...          ...          ...          ...      ...      ...\n",
       "2440   Topic12     0.000006         LOST     1.055331   1.9430  -9.5033\n",
       "5695   Topic12     0.000025       camera  2387.633525  -4.4042  -8.1263\n",
       "10771  Topic12     0.000020      product  1969.786387  -4.4217  -8.3362\n",
       "5227   Topic12     0.000019      battery  2114.066663  -4.5404  -8.3842\n",
       "10960  Topic12     0.000017      quality  1256.952564  -4.1174  -8.4811\n",
       "2498   Topic12     0.000016       Lenovo  1399.670572  -4.2957  -8.5519\n",
       "10645  Topic12     0.000015      problem  1449.130011  -4.3834  -8.6048\n",
       "9734   Topic12     0.000014         note   738.423361  -3.8340  -8.7297\n",
       "806    Topic12     0.000013      Battery   843.442039  -3.9761  -8.7388\n",
       "10578  Topic12     0.000013        price   842.480787  -3.9978  -8.7616\n",
       "8445   Topic12     0.000013        issue  1358.877852  -4.4542  -8.7399\n",
       "2919   Topic12     0.000012         Nice   806.952394  -4.0208  -8.8277\n",
       "7263   Topic12     0.000012      feature   678.069812  -3.8872  -8.8681\n",
       "6435   Topic12     0.000012          day   861.467632  -4.1306  -8.8722\n",
       "1865   Topic12     0.000012         Good   918.780659  -4.1945  -8.8716\n",
       "12429  Topic12     0.000011         time   958.425388  -4.2805  -8.9154\n",
       "9398   Topic12     0.000011       mobile   678.150263  -3.9641  -8.9449\n",
       "10120  Topic12     0.000011  performance   805.890004  -4.1242  -8.9324\n",
       "5086   Topic12     0.000011       backup   598.886733  -3.8712  -8.9763\n",
       "8208   Topic12     0.000010         hour   479.830951  -3.6924  -9.0191\n",
       "1054   Topic12     0.000010       Camera   704.750539  -4.0608  -9.0032\n",
       "9553   Topic12     0.000010        month   487.696814  -3.7357  -9.0462\n",
       "9514   Topic12     0.000010        money   571.062659  -3.8901  -9.0428\n",
       "5946   Topic12     0.000009      charger   346.945283  -3.4324  -9.0834\n",
       "5915   Topic12     0.000010       charge   416.396884  -3.6036  -9.0721\n",
       "522    Topic12     0.000010       Amazon   579.922966  -3.9231  -9.0604\n",
       "2327   Topic12     0.000009           K8   374.747084  -3.5275  -9.1014\n",
       "3290   Topic12     0.000009        Phone   549.151141  -3.8978  -9.0896\n",
       "9905   Topic12     0.000009       option   368.771983  -3.5268  -9.1168\n",
       "4380   Topic12     0.000009         Very   373.723471  -3.5437  -9.1204\n",
       "\n",
       "[1009 rows x 6 columns], token_table=       Topic      Freq            Term\n",
       "term                                  \n",
       "31         1  0.949120           +64gb\n",
       "36         1  0.949386        ,Awesome\n",
       "46         1  0.948155             ,it\n",
       "73         1  0.947885        -battery\n",
       "94         1  0.947855         ..Dolby\n",
       "163        1  0.948274     ..processor\n",
       "281        1  0.949094         .Unless\n",
       "319        1  0.948682             .go\n",
       "402        1  0.949124   ABOUT.Overall\n",
       "479        1  0.948409      Accidental\n",
       "488        1  0.948659        Advocate\n",
       "489        1  0.948335      Affordable\n",
       "512        1  0.948050       Aluminium\n",
       "522        1  1.000133          Amazon\n",
       "617        1  0.949348      Assistant*\n",
       "677        1  0.999355         Awesome\n",
       "750        1  0.948479        BUY..ITS\n",
       "757        1  0.948861       Backcover\n",
       "790        1  0.947630        Bareilly\n",
       "792        1  0.948869       Basically\n",
       "806        1  0.999476         Battery\n",
       "840        1  0.948269            Bell\n",
       "842        1  0.948940        Benefits\n",
       "843        1  0.999040            Best\n",
       "888        1  0.948986         Blowing\n",
       "1015       1  0.947946       CONFERENE\n",
       "1054       1  1.000354          Camera\n",
       "1105       1  0.948321      Chargering\n",
       "1148       1  0.948202           Clock\n",
       "1159       1  0.947351         Compant\n",
       "...      ...       ...             ...\n",
       "12424      1  0.950233           tight\n",
       "12429      1  0.999556            time\n",
       "12451      1  0.948419         time.is\n",
       "12589      1  0.949793          tuffon\n",
       "12603      1  0.947534            tuta\n",
       "12650      1  0.948961         uploads\n",
       "12651      1  0.948847          upsate\n",
       "12672      1  0.999552             use\n",
       "12684      1  0.948334      used/phone\n",
       "12705      1  0.948070          vaguna\n",
       "12754      1  0.949207       version.5\n",
       "12862      1  0.948030    wash.Network\n",
       "12863      1  0.949059           wasol\n",
       "12873      1  0.949313           wasul\n",
       "12886      1  0.949153            weat\n",
       "12893      1  0.948524       week.With\n",
       "12896      1  0.949505  weeks.🔈Speaker\n",
       "12932      1  0.950230        whichbis\n",
       "12936      1  0.948539          whileI\n",
       "12940      1  0.947552         wholeso\n",
       "12946      1  0.948890          wicket\n",
       "12950      1  0.948146           width\n",
       "12986      1  0.948090          work.3\n",
       "13007      1  0.948174       working.2\n",
       "13081      1  0.948894        worstttt\n",
       "13101      1  0.948743    wrong.Please\n",
       "13103      1  0.950184        wrost.it\n",
       "13251      1  0.948749              👍5\n",
       "13255      1  0.948270              👎👎\n",
       "13294      1  0.949167               😑\n",
       "\n",
       "[390 rows x 3 columns], R=30, lambda_step=0.01, plot_opts={'xlab': 'PC1', 'ylab': 'PC2'}, topic_order=[5, 4, 9, 8, 3, 1, 12, 11, 10, 7, 6, 2])"
      ]
     },
     "execution_count": 21,
     "metadata": {},
     "output_type": "execute_result"
    }
   ],
   "source": [
    "#visualizing the topic model\n",
    "vis = pyLDAvis.gensim.prepare(lda_model, corpus, dictionary)\n",
    "vis"
   ]
  },
  {
   "cell_type": "code",
   "execution_count": 22,
   "metadata": {},
   "outputs": [],
   "source": [
    "#defining the function to find the adequate coherence values\n",
    "def compute_coherence_values(dictionary, corpus, texts, limit, start=2, step=3):\n",
    "    \"\"\"\n",
    "    Compute c_v coherence for various number of topics\n",
    "\n",
    "    Parameters:\n",
    "    ----------\n",
    "    dictionary : Gensim dictionary\n",
    "    corpus : Gensim corpus\n",
    "    texts : List of input texts\n",
    "    limit : Max num of topics\n",
    "\n",
    "    Returns:\n",
    "    -------\n",
    "    model_list : List of LDA topic models\n",
    "    coherence_values : Coherence values corresponding to the LDA model with respective number of topics\n",
    "    \"\"\"\n",
    "    coherence_values = []\n",
    "    model_list = []\n",
    "    for num_topics in range(start, limit, step):\n",
    "        model = models.LdaModel(corpus=corpus, num_topics=num_topics, id2word=dictionary)\n",
    "        model_list.append(model)\n",
    "        coherencemodel = CoherenceModel(model=model, texts=texts, dictionary=dictionary, coherence='c_v')\n",
    "        coherence_values.append(coherencemodel.get_coherence())\n",
    "\n",
    "    return model_list, coherence_values"
   ]
  },
  {
   "cell_type": "code",
   "execution_count": 24,
   "metadata": {},
   "outputs": [],
   "source": [
    "#finding the coherence value\n",
    "model_list, coherence_values = compute_coherence_values(dictionary=dictionary, corpus=corpus, texts=token_list, start=2, limit=40, step=6)"
   ]
  },
  {
   "cell_type": "code",
   "execution_count": 25,
   "metadata": {},
   "outputs": [
    {
     "data": {
      "image/png": "[encoded data removed]",
      "text/plain": [
       "<matplotlib.figure.Figure at 0x149f520c1d0>"
      ]
     },
     "metadata": {},
     "output_type": "display_data"
    }
   ],
   "source": [
    "#plotting the graph for coherence value and number of adequate topics\n",
    "import matplotlib.pyplot as plt\n",
    "limit=40; start=2; step=6;\n",
    "x = range(start, limit, step)\n",
    "plt.plot(x, coherence_values)\n",
    "plt.xlabel(\"Num Topics\")\n",
    "plt.ylabel(\"Coherence score\")\n",
    "plt.legend((\"coherence_values\"), loc='best')\n",
    "plt.show()"
   ]
  },
  {
   "cell_type": "code",
   "execution_count": null,
   "metadata": {},
   "outputs": [],
   "source": []
  }
 ],
 "metadata": {
  "kernelspec": {
   "display_name": "Python 3",
   "language": "python",
   "name": "python3"
  },
  "language_info": {
   "codemirror_mode": {
    "name": "ipython",
    "version": 3
   },
   "file_extension": ".py",
   "mimetype": "text/x-python",
   "name": "python",
   "nbconvert_exporter": "python",
   "pygments_lexer": "ipython3",
   "version": "3.6.2"
  }
 },
 "nbformat": 4,
 "nbformat_minor": 2
}
